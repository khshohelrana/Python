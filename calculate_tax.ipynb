{
  "cells": [
    {
      "cell_type": "markdown",
      "metadata": {
        "id": "view-in-github",
        "colab_type": "text"
      },
      "source": [
        "<a href=\"https://colab.research.google.com/github/khshohelrana/Python/blob/main/calculate_tax.ipynb\" target=\"_parent\"><img src=\"https://colab.research.google.com/assets/colab-badge.svg\" alt=\"Open In Colab\"/></a>"
      ]
    },
    {
      "cell_type": "code",
      "execution_count": null,
      "metadata": {
        "colab": {
          "base_uri": "https://localhost:8080/"
        },
        "id": "P-HPmGT9OR12",
        "outputId": "5c4df1ff-8444-44a1-8163-137035de3fd1"
      },
      "outputs": [
        {
          "output_type": "stream",
          "name": "stdout",
          "text": [
            "Enter the income: $100500\n",
            "Total tax amount: $14650.00\n"
          ]
        }
      ],
      "source": [
        "def calculate_tax(income):\n",
        "    if income <= 10000:\n",
        "        tax = income * 0.05\n",
        "    elif income <= 50000:\n",
        "        tax = 10000 * 0.05 + (income - 10000) * 0.10\n",
        "    elif income <= 100000:\n",
        "        tax = 10000 * 0.05 + 40000 * 0.10 + (income - 50000) * 0.20\n",
        "    else:\n",
        "        tax = 10000 * 0.05 + 40000 * 0.10 + 50000 * 0.20 + (income - 100000) * 0.30\n",
        "    return tax\n",
        "\n",
        "def main():\n",
        "    income = float(input(\"Enter the income: $\"))\n",
        "    total_tax = calculate_tax(income)\n",
        "    print(f\"Total tax amount: ${total_tax:.2f}\")\n",
        "\n",
        "if __name__ == \"__main__\":\n",
        "    main()"
      ]
    }
  ],
  "metadata": {
    "colab": {
      "provenance": [],
      "authorship_tag": "ABX9TyPdJRuT12WEvYSHx7gjGemx",
      "include_colab_link": true
    },
    "kernelspec": {
      "display_name": "Python 3",
      "name": "python3"
    },
    "language_info": {
      "name": "python"
    }
  },
  "nbformat": 4,
  "nbformat_minor": 0
}