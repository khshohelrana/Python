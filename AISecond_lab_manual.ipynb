{
  "nbformat": 4,
  "nbformat_minor": 0,
  "metadata": {
    "colab": {
      "provenance": [],
      "authorship_tag": "ABX9TyN/PSV/DNUKxSZE5ww/BHz4",
      "include_colab_link": true
    },
    "kernelspec": {
      "name": "python3",
      "display_name": "Python 3"
    },
    "language_info": {
      "name": "python"
    }
  },
  "cells": [
    {
      "cell_type": "markdown",
      "metadata": {
        "id": "view-in-github",
        "colab_type": "text"
      },
      "source": [
        "<a href=\"https://colab.research.google.com/github/khshohelrana/Python/blob/main/AISecond_lab_manual.ipynb\" target=\"_parent\"><img src=\"https://colab.research.google.com/assets/colab-badge.svg\" alt=\"Open In Colab\"/></a>"
      ]
    },
    {
      "cell_type": "code",
      "execution_count": 1,
      "metadata": {
        "colab": {
          "base_uri": "https://localhost:8080/"
        },
        "id": "K7cXt1DJi-XE",
        "outputId": "47da8034-94d4-4b13-a89c-d5e44018d4f2"
      },
      "outputs": [
        {
          "output_type": "stream",
          "name": "stdout",
          "text": [
            "['apple', 'banana', 'cherry']\n"
          ]
        }
      ],
      "source": [
        "#The list() Constructor\n",
        "thislist = list((\"apple\", \"banana\", \"cherry\"))\n",
        "print(thislist)"
      ]
    },
    {
      "cell_type": "code",
      "source": [
        "#Negative Indexing\n",
        "thislist = [\"apple\", \"banana\", \"cherry\"]\n",
        "print(thislist[-1])"
      ],
      "metadata": {
        "colab": {
          "base_uri": "https://localhost:8080/"
        },
        "id": "4lNhAzvcj8uz",
        "outputId": "6a621228-6888-4774-8e97-e93c9fe06dac"
      },
      "execution_count": 3,
      "outputs": [
        {
          "output_type": "stream",
          "name": "stdout",
          "text": [
            "cherry\n"
          ]
        }
      ]
    },
    {
      "cell_type": "code",
      "source": [
        "#Range of Indexes\n",
        "thislist = [\"apple\", \"banana\", \"cherry\", \"orange\", \"kiwi\", \"melon\", \"mango\"]\n",
        "print(thislist[2:5])"
      ],
      "metadata": {
        "colab": {
          "base_uri": "https://localhost:8080/"
        },
        "id": "B9ldAuv7kDG5",
        "outputId": "68e9d5cd-a8ed-4b5c-8721-a546466abefe"
      },
      "execution_count": 4,
      "outputs": [
        {
          "output_type": "stream",
          "name": "stdout",
          "text": [
            "['cherry', 'orange', 'kiwi']\n"
          ]
        }
      ]
    },
    {
      "cell_type": "code",
      "source": [
        "#Append Items\n",
        "thislist = [\"apple\", \"banana\", \"cherry\"]\n",
        "thislist.append(\"orange\")\n",
        "print(thislist)"
      ],
      "metadata": {
        "colab": {
          "base_uri": "https://localhost:8080/"
        },
        "id": "hTgQfVstkI0L",
        "outputId": "6a2382ac-49e9-479a-e287-538a50ef8aba"
      },
      "execution_count": 5,
      "outputs": [
        {
          "output_type": "stream",
          "name": "stdout",
          "text": [
            "['apple', 'banana', 'cherry', 'orange']\n"
          ]
        }
      ]
    },
    {
      "cell_type": "code",
      "source": [
        "#Insert Items\n",
        "thislist = [\"apple\", \"banana\", \"cherry\"]\n",
        "thislist.insert(1, \"orange\")\n",
        "print(thislist)"
      ],
      "metadata": {
        "colab": {
          "base_uri": "https://localhost:8080/"
        },
        "id": "TyhlgtxtkjRL",
        "outputId": "34d55a20-53e5-4bd0-ef57-3492ea494b4b"
      },
      "execution_count": 6,
      "outputs": [
        {
          "output_type": "stream",
          "name": "stdout",
          "text": [
            "['apple', 'orange', 'banana', 'cherry']\n"
          ]
        }
      ]
    },
    {
      "cell_type": "code",
      "source": [
        "#Remove Specified Item\n",
        "thislist = [\"apple\", \"banana\", \"cherry\"]\n",
        "thislist.remove(\"banana\")\n",
        "print(thislist)"
      ],
      "metadata": {
        "colab": {
          "base_uri": "https://localhost:8080/"
        },
        "id": "iguERBzNkuIr",
        "outputId": "b82e1fe4-c237-432f-c35f-c434c8029ef2"
      },
      "execution_count": 7,
      "outputs": [
        {
          "output_type": "stream",
          "name": "stdout",
          "text": [
            "['apple', 'cherry']\n"
          ]
        }
      ]
    },
    {
      "cell_type": "code",
      "source": [
        "#pop() method removes the specified index\n",
        "thislist = [\"apple\", \"banana\", \"cherry\"]\n",
        "thislist.pop(1)\n",
        "print(thislist)"
      ],
      "metadata": {
        "colab": {
          "base_uri": "https://localhost:8080/"
        },
        "id": "cHMCXlN6k2Xs",
        "outputId": "80501ad2-d619-4b02-ece8-878f24e99ff7"
      },
      "execution_count": 8,
      "outputs": [
        {
          "output_type": "stream",
          "name": "stdout",
          "text": [
            "['apple', 'cherry']\n"
          ]
        }
      ]
    },
    {
      "cell_type": "code",
      "source": [
        "#Loop Through a List\n",
        "thislist = [\"apple\", \"banana\", \"cherry\"]\n",
        "for x in thislist:\n",
        "  print(x)"
      ],
      "metadata": {
        "colab": {
          "base_uri": "https://localhost:8080/"
        },
        "id": "7lj2nv9Bk8lU",
        "outputId": "78321c69-fedb-4614-f5b2-fb4aa1a3adbd"
      },
      "execution_count": 9,
      "outputs": [
        {
          "output_type": "stream",
          "name": "stdout",
          "text": [
            "apple\n",
            "banana\n",
            "cherry\n"
          ]
        }
      ]
    },
    {
      "cell_type": "code",
      "source": [
        "#List Length\n",
        "thislist = [\"apple\", \"banana\", \"cherry\"]\n",
        "print(len(thislist))"
      ],
      "metadata": {
        "colab": {
          "base_uri": "https://localhost:8080/"
        },
        "id": "yYNeCDnilJXs",
        "outputId": "859e08e0-e011-408f-95b0-486dd973bd7e"
      },
      "execution_count": 11,
      "outputs": [
        {
          "output_type": "stream",
          "name": "stdout",
          "text": [
            "3\n"
          ]
        }
      ]
    },
    {
      "cell_type": "code",
      "source": [
        "#Loop Through the Index Numbers\n",
        "thislist = [\"apple\", \"banana\", \"cherry\"]\n",
        "for i in range(len(thislist)):\n",
        "   print(thislist[i])"
      ],
      "metadata": {
        "colab": {
          "base_uri": "https://localhost:8080/"
        },
        "id": "zgonE0i0lTXd",
        "outputId": "834df7b1-3059-42f4-c016-f53b155310a4"
      },
      "execution_count": 14,
      "outputs": [
        {
          "output_type": "stream",
          "name": "stdout",
          "text": [
            "apple\n",
            "banana\n",
            "cherry\n"
          ]
        }
      ]
    },
    {
      "cell_type": "code",
      "source": [
        "#Sort List\n",
        "thislist = [100, 50, 65, 82, 23]\n",
        "thislist.sort()\n",
        "print(thislist)"
      ],
      "metadata": {
        "colab": {
          "base_uri": "https://localhost:8080/"
        },
        "id": "3GaIVzzklhJe",
        "outputId": "36ad0073-2d24-41d2-99c3-dcd136057063"
      },
      "execution_count": 17,
      "outputs": [
        {
          "output_type": "stream",
          "name": "stdout",
          "text": [
            "[23, 50, 65, 82, 100]\n"
          ]
        }
      ]
    },
    {
      "cell_type": "code",
      "source": [
        "#Copy List\n",
        "thislist = [\"apple\", \"banana\", \"cherry\"]\n",
        "mylist = thislist.copy()\n",
        "print(mylist)"
      ],
      "metadata": {
        "colab": {
          "base_uri": "https://localhost:8080/"
        },
        "id": "jVJWR7bRloye",
        "outputId": "0440d7f5-d556-4ea5-b32f-fc3d10bac5c6"
      },
      "execution_count": 18,
      "outputs": [
        {
          "output_type": "stream",
          "name": "stdout",
          "text": [
            "['apple', 'banana', 'cherry']\n"
          ]
        }
      ]
    },
    {
      "cell_type": "code",
      "source": [
        "#Join Lists: (’+’ operator, extend, append)\n",
        "list1 = [\"a\", \"b\", \"c\"]\n",
        "list2 = [1, 2, 3]\n",
        "list3 = list1 + list2\n",
        "print(list3)"
      ],
      "metadata": {
        "colab": {
          "base_uri": "https://localhost:8080/"
        },
        "id": "GHceTjWIluQO",
        "outputId": "528342a7-e418-4478-b7c8-b79189e91e3a"
      },
      "execution_count": 19,
      "outputs": [
        {
          "output_type": "stream",
          "name": "stdout",
          "text": [
            "['a', 'b', 'c', 1, 2, 3]\n"
          ]
        }
      ]
    },
    {
      "cell_type": "code",
      "source": [
        "list1 = [\"a\", \"b\" , \"c\"]\n",
        "list2 = [1, 2, 3]\n",
        "list1.extend(list2)\n",
        "print(list1)"
      ],
      "metadata": {
        "colab": {
          "base_uri": "https://localhost:8080/"
        },
        "id": "O4Wu5Qf-l2AF",
        "outputId": "48a65cca-6c14-4d25-d002-c40bfd8b94cd"
      },
      "execution_count": 20,
      "outputs": [
        {
          "output_type": "stream",
          "name": "stdout",
          "text": [
            "['a', 'b', 'c', 1, 2, 3]\n"
          ]
        }
      ]
    },
    {
      "cell_type": "code",
      "source": [
        "list1 = [\"a\", \"b\" , \"c\"]\n",
        "list2 = [1, 2, 3]\n",
        "for x in list2:\n",
        " list1.append(x)\n",
        "print(list1)"
      ],
      "metadata": {
        "colab": {
          "base_uri": "https://localhost:8080/"
        },
        "id": "uALf-c6gl5ze",
        "outputId": "99ff3051-353d-4978-eaeb-f4e243d9b7c8"
      },
      "execution_count": 21,
      "outputs": [
        {
          "output_type": "stream",
          "name": "stdout",
          "text": [
            "['a', 'b', 'c', 1, 2, 3]\n"
          ]
        }
      ]
    },
    {
      "cell_type": "code",
      "source": [
        "# sum all the items in a list in python\n",
        "lst = []\n",
        "# number of elements as input\n",
        "n = int(input(\"Enter number of elements : \"))\n",
        "# iterating till the range\n",
        "for i in range(0, n):\n",
        " ele = int(input())\n",
        " lst.append(ele)\n",
        "print(lst)\n",
        "print(\"Sum of elements in given list is :\", sum(lst))"
      ],
      "metadata": {
        "colab": {
          "base_uri": "https://localhost:8080/"
        },
        "id": "cg7MRXtfmM62",
        "outputId": "fa9a1a3c-4de5-4fd9-be19-841311a1e703"
      },
      "execution_count": 23,
      "outputs": [
        {
          "output_type": "stream",
          "name": "stdout",
          "text": [
            "Enter number of elements : 5\n",
            "2\n",
            "5\n",
            "6\n",
            "4\n",
            "2\n",
            "[2, 5, 6, 4, 2]\n",
            "Sum of elements in given list is : 19\n"
          ]
        }
      ]
    },
    {
      "cell_type": "code",
      "source": [
        "# Define a function called max_num_in_list that takes a list 'list' as input\n",
        "def max_num_in_list(list):\n",
        "    # Initialize a variable 'max' with the first element of the input list as the initial maximum\n",
        "    max = list[0]\n",
        "    # Iterate through each element 'a' in the input list 'list'\n",
        "    for a in list:\n",
        "        # Check if the current element 'a' is greater than the current maximum 'max'\n",
        "        if a > max:\n",
        "            # If 'a' is greater, update the maximum 'max' to 'a'\n",
        "            max = a\n",
        "    # Return the final maximum value in the list\n",
        "    return max\n",
        "\n",
        "# Call the max_num_in_list function with the list [1, 2, -8, 0] as input and print the result\n",
        "print(max_num_in_list([1, 2, -8, 0]))"
      ],
      "metadata": {
        "colab": {
          "base_uri": "https://localhost:8080/"
        },
        "id": "GNG0aIZGqn64",
        "outputId": "8fb749ba-69b0-45fa-fabb-b3b92a6c81ce"
      },
      "execution_count": 47,
      "outputs": [
        {
          "output_type": "stream",
          "name": "stdout",
          "text": [
            "2\n"
          ]
        }
      ]
    },
    {
      "cell_type": "code",
      "source": [
        "#Create Tuple\n",
        "thistuple = (\"CSE\", \"EEE\", \"BBA\")\n",
        "print(thistuple)"
      ],
      "metadata": {
        "colab": {
          "base_uri": "https://localhost:8080/"
        },
        "id": "b95Awx7OqvsY",
        "outputId": "739f7b2b-22b2-459a-b6d6-bc9d1b868772"
      },
      "execution_count": 48,
      "outputs": [
        {
          "output_type": "stream",
          "name": "stdout",
          "text": [
            "('CSE', 'EEE', 'BBA')\n"
          ]
        }
      ]
    },
    {
      "cell_type": "code",
      "source": [
        "#Tuple Length\n",
        "thistuple = (\"apple\", \"banana\", \"cherry\", 1, 2, 3)\n",
        "print(len(thistuple))"
      ],
      "metadata": {
        "colab": {
          "base_uri": "https://localhost:8080/"
        },
        "id": "fbUMNUUDq3Ig",
        "outputId": "74de4fa6-5123-4180-95ed-8c86820d54dc"
      },
      "execution_count": 49,
      "outputs": [
        {
          "output_type": "stream",
          "name": "stdout",
          "text": [
            "6\n"
          ]
        }
      ]
    },
    {
      "cell_type": "code",
      "source": [
        "#Create Tuple With One Item\n",
        "thistuple = (\"apple\",)\n",
        "print(type(thistuple))"
      ],
      "metadata": {
        "id": "SUvjHSfDq9h4"
      },
      "execution_count": null,
      "outputs": []
    },
    {
      "cell_type": "code",
      "source": [
        "thistuple = (\"apple\")\n",
        "print(type(thistuple))"
      ],
      "metadata": {
        "id": "5bgFgXbxrAya"
      },
      "execution_count": null,
      "outputs": []
    },
    {
      "cell_type": "code",
      "source": [
        "#The tuple() Constructor\n",
        "thistuple = tuple((\"apple\", \"banana\", \"cherry\")) # note the double round−brackets\n",
        "print(thistuple)"
      ],
      "metadata": {
        "colab": {
          "base_uri": "https://localhost:8080/"
        },
        "id": "olI2aqabrCP1",
        "outputId": "48f59826-0d68-432c-b299-becefa4cd4c4"
      },
      "execution_count": 52,
      "outputs": [
        {
          "output_type": "stream",
          "name": "stdout",
          "text": [
            "('apple', 'banana', 'cherry')\n"
          ]
        }
      ]
    },
    {
      "cell_type": "code",
      "source": [
        "#Access Tuple Items\n",
        "thistuple = (\"apple\", \"banana\", \"cherry\")\n",
        "print(thistuple[1])"
      ],
      "metadata": {
        "id": "1UM_sARXrSip"
      },
      "execution_count": null,
      "outputs": []
    },
    {
      "cell_type": "code",
      "source": [
        "#Range of Indexes\n",
        "thistuple = (\"apple\", \"banana\", \"cherry\", \"orange\", \"kiwi\", \"melon\", \"mango\")\n",
        "print(thistuple[:4])"
      ],
      "metadata": {
        "id": "9fNZ_niurWfp"
      },
      "execution_count": null,
      "outputs": []
    },
    {
      "cell_type": "code",
      "source": [
        "#Change Tuple Values\n",
        "x = (\"apple\", \"banana\", \"cherry\")\n",
        "y = list(x)\n",
        "y[1] = \"kiwi\"\n",
        "x = tuple(y)\n",
        "print(x)"
      ],
      "metadata": {
        "id": "pP9nnZMWrbhR"
      },
      "execution_count": null,
      "outputs": []
    },
    {
      "cell_type": "code",
      "source": [
        "#Add Items\n",
        "thistuple = (\"apple\", \"banana\", \"cherry\")\n",
        "y = list(thistuple)\n",
        "y.append(\"orange\")\n",
        "thistuple = tuple(y)\n",
        "print(thistuple)"
      ],
      "metadata": {
        "id": "4qvxx4Ftrla6"
      },
      "execution_count": null,
      "outputs": []
    },
    {
      "cell_type": "code",
      "source": [
        "thistuple = (\"apple\", \"banana\", \"cherry\")\n",
        "y = (\"orange\",)\n",
        "thistuple += y\n",
        "print(thistuple)"
      ],
      "metadata": {
        "id": "kKlv05xfrsJo"
      },
      "execution_count": null,
      "outputs": []
    },
    {
      "cell_type": "code",
      "source": [
        "#Unpacking a Tuple\n",
        "fruits = (\"apple\", \"banana\", \"cherry\")\n",
        "(green, yellow, red) = fruits\n",
        "print(green)\n",
        "print(yellow)\n",
        "print(red)"
      ],
      "metadata": {
        "id": "LCA_0EuVrv8q"
      },
      "execution_count": null,
      "outputs": []
    },
    {
      "cell_type": "code",
      "source": [
        "#Using a While Loop\n",
        "thistuple = (\"apple\", \"banana\", \"cherry\")\n",
        "i = 0\n",
        "while i < len(thistuple):\n",
        "  print(thistuple[i])\n",
        "  i = i + 1"
      ],
      "metadata": {
        "colab": {
          "base_uri": "https://localhost:8080/"
        },
        "id": "YYoamOvWr6Ha",
        "outputId": "75089c15-f5ad-478d-ae75-3edacb0fd320"
      },
      "execution_count": 53,
      "outputs": [
        {
          "output_type": "stream",
          "name": "stdout",
          "text": [
            "apple\n",
            "banana\n",
            "cherry\n"
          ]
        }
      ]
    },
    {
      "cell_type": "code",
      "source": [
        "#Create Dictionary\n",
        "thisdict = {\n",
        "\"brand\": \"Ford\",\n",
        "\"model\": \"Mustang\",\n",
        "\"year\": 1964}\n",
        "print(thisdict)"
      ],
      "metadata": {
        "colab": {
          "base_uri": "https://localhost:8080/"
        },
        "id": "UqEsVVXbsFlT",
        "outputId": "963bc5e7-b539-4a35-92a7-de70de23f417"
      },
      "execution_count": 54,
      "outputs": [
        {
          "output_type": "stream",
          "name": "stdout",
          "text": [
            "{'brand': 'Ford', 'model': 'Mustang', 'year': 1964}\n"
          ]
        }
      ]
    },
    {
      "cell_type": "code",
      "source": [
        "#Access elements\n",
        "thisdict = {\n",
        "\"brand\": \"Ford\",\n",
        "\"model\": \"Mustang\",\n",
        "\"year\": 1964}\n",
        "x = thisdict[\"model\"]\n",
        "print(x)"
      ],
      "metadata": {
        "colab": {
          "base_uri": "https://localhost:8080/"
        },
        "id": "ZKra7c84sMaz",
        "outputId": "f79b44d5-3e76-4d7a-9707-f47c3d4f0607"
      },
      "execution_count": 58,
      "outputs": [
        {
          "output_type": "stream",
          "name": "stdout",
          "text": [
            "Mustang\n"
          ]
        }
      ]
    },
    {
      "cell_type": "code",
      "source": [
        "#Change Values\n",
        "thisdict = {\n",
        "\"brand\": \"Ford\",\n",
        "\"model\": \"Mustang\",\n",
        "\"year\": 1964}\n",
        "thisdict[\"year\"] = 2018"
      ],
      "metadata": {
        "id": "INfQYJVfsibM"
      },
      "execution_count": 59,
      "outputs": []
    },
    {
      "cell_type": "code",
      "source": [
        "#Add item\n",
        "thisdict = {\n",
        "\"brand\": \"Ford\",\n",
        "\"model\": \"Mustang\",\n",
        "\"year\": 1964}\n",
        "thisdict[\"color\"] = \"red\"\n",
        "print(thisdict)"
      ],
      "metadata": {
        "id": "h1rhGEERs9yl"
      },
      "execution_count": null,
      "outputs": []
    },
    {
      "cell_type": "code",
      "source": [
        "#Removing Items\n",
        "thisdict = {\n",
        "\"brand\": \"Ford\",\n",
        "\"model\": \"Mustang\",\n",
        "\"year\": 1964}\n",
        "thisdict.pop(\"model\")\n",
        "print(thisdict)"
      ],
      "metadata": {
        "id": "rklubtnBtEx2"
      },
      "execution_count": null,
      "outputs": []
    },
    {
      "cell_type": "code",
      "source": [
        "thisdict = {\n",
        "\"brand\": \"Ford\",\n",
        "\"model\": \"Mustang\",\n",
        "\"year\": 1964 }\n",
        "thisdict.popitem()\n",
        "print(thisdict)"
      ],
      "metadata": {
        "id": "xsrpjQrwtMHp"
      },
      "execution_count": null,
      "outputs": []
    },
    {
      "cell_type": "code",
      "source": [
        "#Loop Dictionaries\n",
        "thisdict = {\n",
        "\"brand\": \"Ford\",\n",
        "\"model\": \"Mustang\",\n",
        "\"year\": 1964}\n",
        "for x in thisdict:\n",
        "  print(thisdict[x])"
      ],
      "metadata": {
        "id": "kcrNj_rOtR4q"
      },
      "execution_count": null,
      "outputs": []
    },
    {
      "cell_type": "code",
      "source": [
        "#Copy Dictionary\n",
        "thisdict = {\n",
        "\"brand\": \"Ford\",\n",
        "\"model\": \"Mustang\",\n",
        "\"year\": 1964}\n",
        "\n",
        "mydict = thisdict.copy()\n",
        "print(mydict)"
      ],
      "metadata": {
        "id": "EmJgNuy1tfsN"
      },
      "execution_count": null,
      "outputs": []
    },
    {
      "cell_type": "code",
      "source": [
        "#Nested Dictionaries\n",
        "myfamily = {\n",
        "\"child1\" : {\n",
        "\"name\" : \"Emil\",\n",
        "\"year\" : 2004},\n",
        "\"child2\" : {\n",
        "\"name\" : \"Tobias\",\n",
        "\"year\" : 2007},\n",
        "\"child3\" : {\n",
        "\"name\" : \"Linus\",\n",
        "\"year\" : 2011} }\n",
        "\n",
        "print(myfamily)"
      ],
      "metadata": {
        "colab": {
          "base_uri": "https://localhost:8080/"
        },
        "id": "KL81k1odtr93",
        "outputId": "399a9d3f-eb02-46e0-93a2-5d4eab1b9b73"
      },
      "execution_count": 61,
      "outputs": [
        {
          "output_type": "stream",
          "name": "stdout",
          "text": [
            "{'child1': {'name': 'Emil', 'year': 2004}, 'child2': {'name': 'Tobias', 'year': 2007}, 'child3': {'name': 'Linus', 'year': 2011}}\n"
          ]
        }
      ]
    },
    {
      "cell_type": "code",
      "source": [
        "#NumPy Creating Arrays\n",
        "import numpy as np\n",
        "\n",
        "arr = np.array([1, 2, 3, 4, 5])\n",
        "print(arr)\n",
        "print(type(arr))"
      ],
      "metadata": {
        "colab": {
          "base_uri": "https://localhost:8080/"
        },
        "id": "N5AjGTxvt8uP",
        "outputId": "aba48352-c750-4faf-fcb4-44f4995f489e"
      },
      "execution_count": 62,
      "outputs": [
        {
          "output_type": "stream",
          "name": "stdout",
          "text": [
            "[1 2 3 4 5]\n",
            "<class 'numpy.ndarray'>\n"
          ]
        }
      ]
    },
    {
      "cell_type": "code",
      "source": [
        "#Access Array Elements\n",
        "import numpy as np\n",
        "arr = np.array([1, 2, 3, 4])\n",
        "\n",
        "print(arr[0])"
      ],
      "metadata": {
        "colab": {
          "base_uri": "https://localhost:8080/"
        },
        "id": "rOQqVssxuEkw",
        "outputId": "6bf7046e-fac7-4113-9a82-ee4af9e6b547"
      },
      "execution_count": 63,
      "outputs": [
        {
          "output_type": "stream",
          "name": "stdout",
          "text": [
            "1\n"
          ]
        }
      ]
    },
    {
      "cell_type": "code",
      "source": [
        "#NumPy Array Iterating\n",
        "import numpy as np\n",
        "arr = np.array([1, 2, 3])\n",
        "for x in arr:\n",
        " print(x)"
      ],
      "metadata": {
        "colab": {
          "base_uri": "https://localhost:8080/"
        },
        "id": "uEW1JlKMuM_w",
        "outputId": "35bac2f3-7ee5-4c1b-ceb9-1b4bfbc6c10d"
      },
      "execution_count": 64,
      "outputs": [
        {
          "output_type": "stream",
          "name": "stdout",
          "text": [
            "1\n",
            "2\n",
            "3\n"
          ]
        }
      ]
    },
    {
      "cell_type": "code",
      "source": [
        "#NumPy Joining Array\n",
        "import numpy as np\n",
        "arr1 = np.array([1, 2, 3])\n",
        "arr2 = np.array([4, 5, 6])\n",
        "arr = np.concatenate((arr1, arr2))\n",
        "print(arr)\n",
        "print(arr1+arr2)"
      ],
      "metadata": {
        "colab": {
          "base_uri": "https://localhost:8080/"
        },
        "id": "pNd5OpaSuTig",
        "outputId": "510a81b6-771f-4e06-f8d1-09193701d0f9"
      },
      "execution_count": 74,
      "outputs": [
        {
          "output_type": "stream",
          "name": "stdout",
          "text": [
            "[1 2 3 4 5 6]\n",
            "[5 7 9]\n"
          ]
        }
      ]
    },
    {
      "cell_type": "code",
      "source": [
        "#NumPy Sorting Arrays\n",
        "import numpy as np\n",
        "arr = np.array([3, 2, 0, 1])\n",
        "print(np.sort(arr))"
      ],
      "metadata": {
        "id": "CZc5m125uc0Q"
      },
      "execution_count": null,
      "outputs": []
    },
    {
      "cell_type": "code",
      "source": [
        "#Generate Random Number\n",
        "from numpy import random\n",
        "x = random.randint(100)\n",
        "print(x)"
      ],
      "metadata": {
        "colab": {
          "base_uri": "https://localhost:8080/"
        },
        "id": "l4jRmRhBuh-g",
        "outputId": "6966dc84-83a8-432a-d45c-ad23ce12209e"
      },
      "execution_count": 68,
      "outputs": [
        {
          "output_type": "stream",
          "name": "stdout",
          "text": [
            "66\n"
          ]
        }
      ]
    },
    {
      "cell_type": "code",
      "source": [
        "#Pandas\n",
        "import pandas as pd\n",
        "mydataset = {\n",
        "'’cars’': [\"BMW\", \"Volvo\", \"Ford\"],\n",
        "'’passings’': [3, 7, 2]}\n",
        "myvar = pd.DataFrame(mydataset)\n",
        "print(myvar)"
      ],
      "metadata": {
        "colab": {
          "base_uri": "https://localhost:8080/"
        },
        "id": "i8BoMvdMu4TY",
        "outputId": "4d2fa788-45c6-4a95-c0b5-b59be6ef12a0"
      },
      "execution_count": 69,
      "outputs": [
        {
          "output_type": "stream",
          "name": "stdout",
          "text": [
            "  ’cars’  ’passings’\n",
            "0    BMW           3\n",
            "1  Volvo           7\n",
            "2   Ford           2\n"
          ]
        }
      ]
    },
    {
      "cell_type": "code",
      "source": [
        "#Pandas Series\n",
        "import pandas as pd\n",
        "a = [1, 7, 2]\n",
        "myvar = pd.Series(a)\n",
        "print(myvar)"
      ],
      "metadata": {
        "colab": {
          "base_uri": "https://localhost:8080/"
        },
        "id": "SM_ruwUDvGdb",
        "outputId": "ebce2906-ea68-47bb-d0f0-e0a7275cbed6"
      },
      "execution_count": 70,
      "outputs": [
        {
          "output_type": "stream",
          "name": "stdout",
          "text": [
            "0    1\n",
            "1    7\n",
            "2    2\n",
            "dtype: int64\n"
          ]
        }
      ]
    },
    {
      "cell_type": "code",
      "source": [
        "import pandas as pd\n",
        "a = [1, 7, 2]\n",
        "myvar = pd.Series(a, index = [\"x\", \"y\", \"z\"])\n",
        "print(myvar)"
      ],
      "metadata": {
        "id": "gZ77n8hSvP8n"
      },
      "execution_count": null,
      "outputs": []
    },
    {
      "cell_type": "code",
      "source": [
        "#Matplotlib Pyplot\n",
        "import matplotlib.pyplot as plt\n",
        "import numpy as np\n",
        "\n",
        "xpoints = np.array([0, 6])\n",
        "ypoints = np.array([0, 250])\n",
        "plt.plot(xpoints, ypoints)\n",
        "plt.show()"
      ],
      "metadata": {
        "colab": {
          "base_uri": "https://localhost:8080/",
          "height": 430
        },
        "id": "hPcn6-MPvUFP",
        "outputId": "850aa26e-4198-4346-da8e-c7d705ae1051"
      },
      "execution_count": 71,
      "outputs": [
        {
          "output_type": "display_data",
          "data": {
            "text/plain": [
              "<Figure size 640x480 with 1 Axes>"
            ],
            "image/png": "[encoded data removed]"
          },
          "metadata": {}
        }
      ]
    },
    {
      "cell_type": "code",
      "source": [
        "#Matplotlib Plotting\n",
        "import matplotlib.pyplot as plt\n",
        "import numpy as np\n",
        "\n",
        "xpoints = np.array([1, 8])\n",
        "\n",
        "ypoints = np.array([3, 10])\n",
        "plt.plot(xpoints, ypoints)\n",
        "plt.show()"
      ],
      "metadata": {
        "colab": {
          "base_uri": "https://localhost:8080/",
          "height": 430
        },
        "id": "kV3DDNxxvjQX",
        "outputId": "428d0ce2-ef92-49eb-c514-3df74865ed1d"
      },
      "execution_count": 72,
      "outputs": [
        {
          "output_type": "display_data",
          "data": {
            "text/plain": [
              "<Figure size 640x480 with 1 Axes>"
            ],
            "image/png": "[encoded data removed]"
          },
          "metadata": {}
        }
      ]
    },
    {
      "cell_type": "code",
      "source": [
        "#Matplotlib Markers\n",
        "import matplotlib.pyplot as plt\n",
        "import numpy as np\n",
        "\n",
        "ypoints = np.array([3, 8, 1, 10])\n",
        "plt.plot(ypoints, marker = 'o')\n",
        "plt.show()"
      ],
      "metadata": {
        "colab": {
          "base_uri": "https://localhost:8080/",
          "height": 430
        },
        "id": "etTfql4JwCtw",
        "outputId": "5d25a3be-a8a3-4dbb-a7dc-c6ff428ca097"
      },
      "execution_count": 77,
      "outputs": [
        {
          "output_type": "display_data",
          "data": {
            "text/plain": [
              "<Figure size 640x480 with 1 Axes>"
            ],
            "image/png": "[encoded data removed]"
          },
          "metadata": {}
        }
      ]
    },
    {
      "cell_type": "code",
      "source": [
        "#Matplotlib Line\n",
        "import matplotlib.pyplot as plt\n",
        "import numpy as np\n",
        "\n",
        "ypoints = np.array([3, 8, 1, 10])\n",
        "plt.plot(ypoints, linestyle = 'dotted')\n",
        "plt.show()"
      ],
      "metadata": {
        "colab": {
          "base_uri": "https://localhost:8080/",
          "height": 430
        },
        "id": "Y425XlUuwTWw",
        "outputId": "67a40c8e-e746-440f-f332-321c95f70f0d"
      },
      "execution_count": 79,
      "outputs": [
        {
          "output_type": "display_data",
          "data": {
            "text/plain": [
              "<Figure size 640x480 with 1 Axes>"
            ],
            "image/png": "[encoded data removed]"
          },
          "metadata": {}
        }
      ]
    },
    {
      "cell_type": "code",
      "source": [
        "plt.plot(ypoints, linestyle = 'dashed')"
      ],
      "metadata": {
        "colab": {
          "base_uri": "https://localhost:8080/",
          "height": 447
        },
        "id": "6QimM6IawgO4",
        "outputId": "31d07245-c486-4051-b755-3ced64f72cbb"
      },
      "execution_count": 80,
      "outputs": [
        {
          "output_type": "execute_result",
          "data": {
            "text/plain": [
              "[<matplotlib.lines.Line2D at 0x7e24254d62f0>]"
            ]
          },
          "metadata": {},
          "execution_count": 80
        },
        {
          "output_type": "display_data",
          "data": {
            "text/plain": [
              "<Figure size 640x480 with 1 Axes>"
            ],
            "image/png": "[encoded data removed]"
          },
          "metadata": {}
        }
      ]
    },
    {
      "cell_type": "code",
      "source": [
        "#Matplotlib Adding Grid Lines\n",
        "import numpy as np\n",
        "import matplotlib.pyplot as plt\n",
        "\n",
        "x = np.array([80, 85, 90, 95, 100, 105, 110, 115, 120, 125])\n",
        "y = np.array([240, 250, 260, 270, 280, 290, 300, 310, 320, 330])\n",
        "\n",
        "plt.title(\"Sports Watch Data\")\n",
        "plt.xlabel(\"Average Pulse\")\n",
        "plt.ylabel(\"Calorie Burnage\")\n",
        "\n",
        "plt.plot(x, y)\n",
        "\n",
        "plt.grid(color = 'green', linestyle = '--', linewidth = 0.5)\n",
        "plt.show()"
      ],
      "metadata": {
        "colab": {
          "base_uri": "https://localhost:8080/",
          "height": 472
        },
        "id": "FDnlYd1xwoGY",
        "outputId": "9ae98773-86f2-4ddf-8abd-98faffbbf433"
      },
      "execution_count": 81,
      "outputs": [
        {
          "output_type": "display_data",
          "data": {
            "text/plain": [
              "<Figure size 640x480 with 1 Axes>"
            ],
            "image/png": "[encoded data removed]"
          },
          "metadata": {}
        }
      ]
    },
    {
      "cell_type": "code",
      "source": [
        "#Matplotlib Subplot\n",
        "import matplotlib.pyplot as plt\n",
        "import numpy as np\n",
        "\n",
        "x = np.array([0, 1, 2, 3])\n",
        "y = np.array([3, 8, 1, 10])\n",
        "\n",
        "plt.subplot(2, 3, 1)\n",
        "plt.plot(x,y)\n",
        "\n",
        "x = np.array([0, 1, 2, 3])\n",
        "y = np.array([10, 20, 30, 40])\n",
        "\n",
        "plt.subplot(2, 3, 2)\n",
        "plt.plot(x,y)\n",
        "\n",
        "x = np.array([0, 1, 2, 3])\n",
        "y = np.array([3, 8, 1, 10])\n",
        "\n",
        "plt.subplot(2, 3, 3)\n",
        "plt.plot(x,y)\n",
        "\n",
        "x = np.array([0, 1, 2, 3])\n",
        "y = np.array([10, 20, 30, 40])\n",
        "\n",
        "plt.subplot(2, 3, 4)\n",
        "plt.plot(x,y)\n",
        "\n",
        "x = np.array([0, 1, 2, 3])\n",
        "y = np.array([3, 8, 1, 10])\n",
        "\n",
        "plt.subplot(2, 3, 5)\n",
        "plt.plot(x,y)\n",
        "\n",
        "x = np.array([0, 1, 2, 3])\n",
        "y = np.array([10, 20, 30, 40])\n",
        "\n",
        "plt.subplot(2, 3, 6)\n",
        "plt.plot(x,y)\n",
        "\n",
        "plt.show()"
      ],
      "metadata": {
        "colab": {
          "base_uri": "https://localhost:8080/",
          "height": 430
        },
        "id": "FQ4lbm_Bw3l6",
        "outputId": "d731a756-60a8-4953-8702-d8bcc4e16d1e"
      },
      "execution_count": 85,
      "outputs": [
        {
          "output_type": "display_data",
          "data": {
            "text/plain": [
              "<Figure size 640x480 with 6 Axes>"
            ],
            "image/png": "[encoded data removed]"
          },
          "metadata": {}
        }
      ]
    },
    {
      "cell_type": "code",
      "source": [
        "#Matplotlib Scatter\n",
        "import matplotlib.pyplot as plt\n",
        "import numpy as np\n",
        "\n",
        "x = np.array([5,7,8,7,2,17,2,9,4,11,12,9,6])\n",
        "y = np.array([99,86,87,88,111,86,103,87,94,78,77,85,86])\n",
        "plt.scatter(x, y, color = 'hotpink')\n",
        "\n",
        "x = np.array([2,2,8,1,15,8,12,9,7,3,11,4,7,14,12])\n",
        "y = np.array([100,105,84,105,90,99,90,95,94,100,79,112,91,80,85])\n",
        "plt.scatter(x, y, color = '#88c999')\n",
        "\n",
        "plt.show()"
      ],
      "metadata": {
        "colab": {
          "base_uri": "https://localhost:8080/",
          "height": 430
        },
        "id": "H4WW7ePFxqhF",
        "outputId": "67401aa7-ab69-4273-9f85-6219ff31cbd5"
      },
      "execution_count": 86,
      "outputs": [
        {
          "output_type": "display_data",
          "data": {
            "text/plain": [
              "<Figure size 640x480 with 1 Axes>"
            ],
            "image/png": "[encoded data removed]"
          },
          "metadata": {}
        }
      ]
    },
    {
      "cell_type": "code",
      "source": [
        "#Matplotlib Bars\n",
        "#Three lines to make our compiler able to draw:\n",
        "import sys\n",
        "import matplotlib\n",
        "matplotlib.use('Agg')\n",
        "\n",
        "import matplotlib.pyplot as plt\n",
        "import numpy as np\n",
        "\n",
        "x = np.array([\"A\", \"B\", \"C\", \"D\"])\n",
        "y = np.array([3, 8, 1, 10])\n",
        "\n",
        "plt.bar(x, y, color = \"#4CAF50\",width = 0.1)\n",
        "plt.show()"
      ],
      "metadata": {
        "id": "XAEoi_Ksx5Y7"
      },
      "execution_count": null,
      "outputs": []
    },
    {
      "cell_type": "code",
      "source": [
        "#Matplotlib Histograms\n",
        "import matplotlib.pyplot as plt\n",
        "import numpy as np\n",
        "\n",
        "x = np.random.normal(170, 10, 250)\n",
        "\n",
        "plt.hist(x)\n",
        "plt.show()"
      ],
      "metadata": {
        "id": "kMB6O1HRyFwp"
      },
      "execution_count": null,
      "outputs": []
    },
    {
      "cell_type": "code",
      "source": [
        "#Matplotlib Pie Chart\n",
        "import matplotlib.pyplot as plt\n",
        "import numpy as np\n",
        "\n",
        "y = np.array([35, 25, 25, 10,5])\n",
        "mylabels = [\"Apples\", \"Bananas\", \"Cherries\", \"Dates\", \"Mango\"]\n",
        "myexplode = [0.2, 0, 0, 0,0]\n",
        "\n",
        "plt.pie(y, labels = mylabels, explode = myexplode, shadow = True)\n",
        "plt.show()"
      ],
      "metadata": {
        "colab": {
          "base_uri": "https://localhost:8080/",
          "height": 406
        },
        "id": "8J03y0t2yMYA",
        "outputId": "5e6092ee-18b8-4277-8955-2018024ec69d"
      },
      "execution_count": 89,
      "outputs": [
        {
          "output_type": "display_data",
          "data": {
            "text/plain": [
              "<Figure size 640x480 with 1 Axes>"
            ],
            "image/png": "[encoded data removed]"
          },
          "metadata": {}
        }
      ]
    }
  ]
}