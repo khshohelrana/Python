{
  "nbformat": 4,
  "nbformat_minor": 0,
  "metadata": {
    "colab": {
      "provenance": [],
      "authorship_tag": "ABX9TyPClalFCQKr27cz/nqhQFTp",
      "include_colab_link": true
    },
    "kernelspec": {
      "name": "python3",
      "display_name": "Python 3"
    },
    "language_info": {
      "name": "python"
    }
  },
  "cells": [
    {
      "cell_type": "markdown",
      "metadata": {
        "id": "view-in-github",
        "colab_type": "text"
      },
      "source": [
        "<a href=\"https://colab.research.google.com/github/khshohelrana/Python/blob/main/character_frequency_counter.ipynb\" target=\"_parent\"><img src=\"https://colab.research.google.com/assets/colab-badge.svg\" alt=\"Open In Colab\"/></a>"
      ]
    },
    {
      "cell_type": "code",
      "execution_count": null,
      "metadata": {
        "id": "P-HPmGT9OR12"
      },
      "outputs": [],
      "source": [
        "def character_frequency(input_string):\n",
        "    frequency = {}  # here i Created an empty dictionary to store character frequencies\n",
        "\n",
        "    # Iterate through each character in the input string\n",
        "    for char in input_string:\n",
        "        # If the character is already in the dictionary, increment its count\n",
        "        if char in frequency:\n",
        "            frequency[char] += 1\n",
        "        # If the character is not in the dictionary, add it with a count of 1\n",
        "        else:\n",
        "            frequency[char] = 1\n",
        "\n",
        "    return frequency\n",
        "\n",
        "def main():\n",
        "    input_string = input(\"Enter a string: \")\n",
        "    #After calculating the character frequencies, the program iterates through the items in the freq_dict dictionary\n",
        "    freq_dict = character_frequency(input_string)\n",
        "\n",
        "    # Display the character frequency\n",
        "    print(\"Output:\", end=\" \")\n",
        "    for char, freq in freq_dict.items():\n",
        "        print(f\"'{char}': {freq}\", end=\" \")\n",
        "#It ensures that the main function is executed only if the script is run directly.\n",
        "if __name__ == \"__main__\":\n",
        "    main()\n"
      ]
    }
  ]
}