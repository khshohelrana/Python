{
  "nbformat": 4,
  "nbformat_minor": 0,
  "metadata": {
    "colab": {
      "provenance": [],
      "authorship_tag": "ABX9TyPsowY9czuSk70Y/xu4NTjh",
      "include_colab_link": true
    },
    "kernelspec": {
      "name": "python3",
      "display_name": "Python 3"
    },
    "language_info": {
      "name": "python"
    }
  },
  "cells": [
    {
      "cell_type": "markdown",
      "metadata": {
        "id": "view-in-github",
        "colab_type": "text"
      },
      "source": [
        "<a href=\"https://colab.research.google.com/github/khshohelrana/Python/blob/main/AI_BFS_all_about.ipynb\" target=\"_parent\"><img src=\"https://colab.research.google.com/assets/colab-badge.svg\" alt=\"Open In Colab\"/></a>"
      ]
    },
    {
      "cell_type": "code",
      "execution_count": null,
      "metadata": {
        "colab": {
          "base_uri": "https://localhost:8080/"
        },
        "id": "1aqlBTPh5ZtN",
        "outputId": "c4fe0e28-ea0d-4f2f-a2e6-04a58ca1ec1d"
      },
      "outputs": [
        {
          "output_type": "stream",
          "name": "stdout",
          "text": [
            "1 2\n",
            "0 2\n",
            "1 3\n",
            "1 1\n",
            "1 4\n",
            "2 1\n",
            "2 4\n",
            "0 4\n",
            "3 1\n",
            "3 4\n",
            "3 0\n",
            "4 4\n",
            "Goal found\n",
            "Number of moves required = 6\n"
          ]
        }
      ],
      "source": [
        "from collections import deque\n",
        "\n",
        "class Node:\n",
        "    def __init__(self, a, b, z):\n",
        "        self.x = a\n",
        "        self.y = b\n",
        "        self.level = z\n",
        "\n",
        "class BFS:\n",
        "    def __init__(self):\n",
        "        self.directions = 4\n",
        "        self.x_move = [1, -1, 0, 0]\n",
        "        self.y_move = [0, 0, 1, -1]\n",
        "        self.found = False\n",
        "        self.goal_level = 0\n",
        "        self.source = None\n",
        "        self.goal = None\n",
        "        self.N = 0\n",
        "        self.state = 0\n",
        "        self.init()\n",
        "\n",
        "    def init(self):\n",
        "        graph = [\n",
        "            [0, 0, 1, 0, 1],\n",
        "            [0, 1, 1, 1, 1],\n",
        "            [0, 1, 0, 0, 1],\n",
        "            [1, 1, 0, 1, 1],\n",
        "            [1, 0, 0, 0, 1]\n",
        "        ]\n",
        "        self.N = len(graph)\n",
        "        source_x, source_y = 0, 2\n",
        "        goal_x, goal_y = 4, 4\n",
        "        self.source = Node(source_x, source_y, 0)\n",
        "        self.goal = Node(goal_x, goal_y, float('inf'))\n",
        "        self.st_bfs(graph)\n",
        "        if self.found:\n",
        "            print(\"Goal found\")\n",
        "            print(\"Number of moves required =\", self.goal_level)\n",
        "        else:\n",
        "            print(\"Goal can not be reached from starting block\")\n",
        "\n",
        "    def st_bfs(self, graph):\n",
        "        q = deque()\n",
        "        q.append(self.source)\n",
        "\n",
        "        while q:\n",
        "\n",
        "            u = q.popleft()\n",
        "            for j in range(self.directions):\n",
        "                v_x = u.x + self.x_move[j]\n",
        "                v_y = u.y + self.y_move[j]\n",
        "                if (0 <= v_x < self.N) and (0 <= v_y < self.N) and graph[v_x][v_y] == 1:\n",
        "                    v_level = u.level + 1\n",
        "                    print(v_x  ,v_y)\n",
        "                    if v_x == self.goal.x and v_y == self.goal.y:\n",
        "                        self.found = True\n",
        "                        self.goal_level = v_level\n",
        "                        self.goal.level = v_level\n",
        "                        return\n",
        "                    graph[v_x][v_y] = 0\n",
        "                    child = Node(v_x, v_y, v_level)\n",
        "                    q.append(child)\n",
        "\n",
        "b = BFS()"
      ]
    }
  ]
}