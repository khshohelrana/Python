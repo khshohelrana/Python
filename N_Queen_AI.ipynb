{
  "nbformat": 4,
  "nbformat_minor": 0,
  "metadata": {
    "colab": {
      "provenance": [],
      "authorship_tag": "ABX9TyNX3yL4N45V5hK2Jrn05IcM",
      "include_colab_link": true
    },
    "kernelspec": {
      "name": "python3",
      "display_name": "Python 3"
    },
    "language_info": {
      "name": "python"
    }
  },
  "cells": [
    {
      "cell_type": "markdown",
      "metadata": {
        "id": "view-in-github",
        "colab_type": "text"
      },
      "source": [
        "<a href=\"https://colab.research.google.com/github/khshohelrana/Python/blob/main/N_Queen_AI.ipynb\" target=\"_parent\"><img src=\"https://colab.research.google.com/assets/colab-badge.svg\" alt=\"Open In Colab\"/></a>"
      ]
    },
    {
      "cell_type": "code",
      "execution_count": 26,
      "metadata": {
        "colab": {
          "base_uri": "https://localhost:8080/"
        },
        "id": "okvNCqDxR937",
        "outputId": "9df1e8be-85c7-4196-910b-257cf2fbceaa"
      },
      "outputs": [
        {
          "output_type": "stream",
          "name": "stdout",
          "text": [
            "Enter the value of n: 5\n",
            "1 0 0 0 0 \n",
            "0 0 0 1 0 \n",
            "0 1 0 0 0 \n",
            "0 0 0 0 1 \n",
            "0 0 1 0 0 \n"
          ]
        },
        {
          "output_type": "execute_result",
          "data": {
            "text/plain": [
              "True"
            ]
          },
          "metadata": {},
          "execution_count": 26
        }
      ],
      "source": [
        "\n",
        "N = int(input(\"Enter the value of n: \"))\n",
        "def printSolution(board):\n",
        "    for i in range(N):\n",
        "        for j in range(N):\n",
        "            print (board[i][j],end=' ')\n",
        "        print()\n",
        "\n",
        "\n",
        "# A utility function to check if a queen can\n",
        "# be placed on board[row][col]. Note that this\n",
        "# function is called when \"col\" queens are\n",
        "# already placed in columns from 0 to col -1.\n",
        "# So we need to check only left side for\n",
        "# attacking queens\n",
        "def isSafe(board, row, col):\n",
        "\n",
        "    # Check this row on left side\n",
        "    for i in range(col):\n",
        "        if board[row][i] == 1:\n",
        "            return False\n",
        "\n",
        "    # Check upper diagonal on left side\n",
        "    for i, j in zip(range(row, -1, -1), range(col, -1, -1)):\n",
        "        if board[i][j] == 1:\n",
        "            return False\n",
        "\n",
        "    # Check lower diagonal on left side\n",
        "    for i, j in zip(range(row, N, 1), range(col, -1, -1)):\n",
        "        if board[i][j] == 1:\n",
        "            return False\n",
        "\n",
        "    return True\n",
        "\n",
        "def solveNQUtil(board, col):\n",
        "    # base case: If all queens are placed\n",
        "    # then return true\n",
        "    if col >= N:\n",
        "        return True\n",
        "\n",
        "    # Consider this column and try placing\n",
        "    # this queen in all rows one by one\n",
        "    for i in range(N):\n",
        "\n",
        "        if isSafe(board, i, col):\n",
        "            # Place this queen in board[i][col]\n",
        "            board[i][col] = 1\n",
        "\n",
        "            # recur to place rest of the queens\n",
        "            if solveNQUtil(board, col + 1) == True:\n",
        "                return True\n",
        "\n",
        "            # If placing queen in board[i][col\n",
        "            # doesn't lead to a solution, then\n",
        "            # queen from board[i][col]\n",
        "            board[i][col] = 0\n",
        "\n",
        "    # if the queen can not be placed in any row in\n",
        "    # this column col  then return false\n",
        "    return False\n",
        "\n",
        "# This function solves the N Queen problem using\n",
        "# Backtracking. It mainly uses solveNQUtil() to\n",
        "# solve the problem. It returns false if queens\n",
        "# cannot be placed, otherwise return true and\n",
        "# placement of queens in the form of 1s.\n",
        "# note that there may be more than one\n",
        "# solutions, this function prints one  of the\n",
        "# feasible solutions.\n",
        "def solveNQ(n):\n",
        "    # board = [ [0, 0, 0, 0],\n",
        "    #           [0, 0, 0, 0],\n",
        "    #           [0, 0, 0, 0],\n",
        "    #           [0, 0, 0, 0]\n",
        "    #          ]\n",
        "\n",
        "\n",
        "\n",
        "# Create an n x n matrix filled with zeros\n",
        "  board = [[0 for _ in range(n)] for _ in range(n)]\n",
        "\n",
        "\n",
        "  if solveNQUtil(board, 0) == False:\n",
        "            print (\"Solution does not exist\")\n",
        "            return False\n",
        "\n",
        "  printSolution(board)\n",
        "  return True\n",
        "\n",
        "# driver program to test above function\n",
        "solveNQ(N)"
      ]
    }
  ]
}