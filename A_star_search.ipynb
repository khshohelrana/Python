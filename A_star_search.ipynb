{
  "nbformat": 4,
  "nbformat_minor": 0,
  "metadata": {
    "colab": {
      "provenance": [],
      "authorship_tag": "ABX9TyO0zwf3DEIZQVjiRMqKmaaM",
      "include_colab_link": true
    },
    "kernelspec": {
      "name": "python3",
      "display_name": "Python 3"
    },
    "language_info": {
      "name": "python"
    }
  },
  "cells": [
    {
      "cell_type": "markdown",
      "metadata": {
        "id": "view-in-github",
        "colab_type": "text"
      },
      "source": [
        "<a href=\"https://colab.research.google.com/github/khshohelrana/Python/blob/main/A_star_search.ipynb\" target=\"_parent\"><img src=\"https://colab.research.google.com/assets/colab-badge.svg\" alt=\"Open In Colab\"/></a>"
      ]
    },
    {
      "cell_type": "code",
      "execution_count": 18,
      "metadata": {
        "colab": {
          "base_uri": "https://localhost:8080/"
        },
        "id": "Qfi4o7vqeK8T",
        "outputId": "f2a32e22-2872-42ec-af8e-2f42c1067c0f"
      },
      "outputs": [
        {
          "output_type": "stream",
          "name": "stdout",
          "text": [
            "Goal Found and cost = 5\n"
          ]
        }
      ],
      "source": [
        "import heapq\n",
        "\n",
        "class Node:\n",
        " def __init__(self, u, GofN, HofN):\n",
        "   self.u = u\n",
        "   self.GofN = GofN\n",
        "   self.HofN = HofN\n",
        "   self.FofN = GofN + HofN\n",
        "\n",
        " def __lt__(self, other):\n",
        "   return self.FofN < other.FofN\n",
        "\n",
        "def a_star_search(arr, heuristic, start, dest):\n",
        "   N = len(arr)\n",
        "   pq = []\n",
        "   heapq.heappush(pq, Node(start, 0, heuristic[start]))\n",
        "\n",
        "   visited = [False] * N\n",
        "   flag = False\n",
        "\n",
        "   while pq:\n",
        "      parent = heapq.heappop(pq)\n",
        "\n",
        "      if parent.u == dest:\n",
        "         print(\"Goal Found and cost =\", parent.GofN)\n",
        "         flag = True\n",
        "\n",
        "         break\n",
        "\n",
        "      if visited[parent.u]:\n",
        "         continue\n",
        "\n",
        "      visited[parent.u] = True\n",
        "\n",
        "      for i in range(N):\n",
        "          if arr[parent.u][i] != 0 and not visited[i]:\n",
        "             child = Node(i, parent.GofN + arr[parent.u][i], heuristic[i])\n",
        "             heapq.heappush(pq, child)\n",
        "\n",
        "   if not flag:\n",
        "      print(\"Not possible to reach goal node\")\n",
        "\n",
        "N = 7 # Number of Nodes\n",
        "arr = [\n",
        "     [0, 6, 2, 0, 0, 0, 10],\n",
        "     [6, 0, 3, 1, 0, 0, 0],\n",
        "     [2, 3, 0, 0, 6, 2, 0],\n",
        "     [0, 1, 0, 0, 4, 0, 0],\n",
        "     [0, 0, 6, 4, 0, 3, 0],\n",
        "     [0, 0, 2, 0, 3, 0, 1],\n",
        "     [10, 0, 0, 0, 0, 1, 0]\n",
        "   ]\n",
        "heuristic = [5, 3, 3, 2, 6, 3, 0] # Heuristic values\n",
        "start = 0 # Starting node\n",
        "dest = 6 # Destination node\n",
        "a_star_search(arr, heuristic, start, dest)"
      ]
    }
  ]
}