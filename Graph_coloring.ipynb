{
  "nbformat": 4,
  "nbformat_minor": 0,
  "metadata": {
    "colab": {
      "provenance": [],
      "authorship_tag": "ABX9TyNQLrj3f97/3dWgJq+3YWv2",
      "include_colab_link": true
    },
    "kernelspec": {
      "name": "python3",
      "display_name": "Python 3"
    },
    "language_info": {
      "name": "python"
    }
  },
  "cells": [
    {
      "cell_type": "markdown",
      "metadata": {
        "id": "view-in-github",
        "colab_type": "text"
      },
      "source": [
        "<a href=\"https://colab.research.google.com/github/khshohelrana/Python/blob/main/Graph_coloring.ipynb\" target=\"_parent\"><img src=\"https://colab.research.google.com/assets/colab-badge.svg\" alt=\"Open In Colab\"/></a>"
      ]
    },
    {
      "cell_type": "code",
      "execution_count": 11,
      "metadata": {
        "colab": {
          "base_uri": "https://localhost:8080/"
        },
        "id": "pLSWsqTGFlb0",
        "outputId": "b1ef8e25-752e-481a-845f-50aabd47e33d"
      },
      "outputs": [
        {
          "output_type": "stream",
          "name": "stdout",
          "text": [
            "Enter number of vertices: 7\n",
            "Enter the adjacency matrix:\n",
            "0 1 1 0 0 0 0\n",
            "1 0 1 1 0 0 0\n",
            "1 1 0 1 1 1 0\n",
            "0 1 1 0 1 0 0\n",
            "0 0 1 1 0 1 0\n",
            "0 0 1 0 1 0 0\n",
            "0 0 0 0 0 0 0\n",
            "Enter number of colors: 3\n",
            "Enter color 1: RED\n",
            "Enter color 2: GREEN\n",
            "Enter color 3: BLUE\n",
            "Solution exists\n",
            "Colors: ['RED', 'GREEN', 'BLUE', 'RED', 'GREEN', 'RED', 'RED']\n"
          ]
        }
      ],
      "source": [
        "def is_safe(graph, vertex, color, c):\n",
        "    for i in range(len(graph)):\n",
        "        if graph[vertex][i] == 1 and color[i] == c:\n",
        "            return False\n",
        "    return True\n",
        "\n",
        "def graph_coloring(graph, colors, num_colors):\n",
        "    color = [-1] * len(graph)\n",
        "    if not graph_coloring_util(graph, num_colors, color, 0):\n",
        "        print(\"Solution does not exist\")\n",
        "        return\n",
        "    print(\"Solution exists\")\n",
        "    assigned_colors = []\n",
        "    for c in color:\n",
        "        assigned_colors.append(colors[c])\n",
        "    print(\"Colors:\", assigned_colors)\n",
        "\n",
        "def graph_coloring_util(graph, num_colors, color, vertex):\n",
        "    if vertex == len(graph):\n",
        "        return True\n",
        "    for c in range(num_colors):\n",
        "        if is_safe(graph, vertex, color, c):\n",
        "            color[vertex] = c\n",
        "            if graph_coloring_util(graph, num_colors, color, vertex + 1):\n",
        "                return True\n",
        "            color[vertex] = -1\n",
        "    return False\n",
        "\n",
        "# Example input\n",
        "num_vertices = int(input(\"Enter number of vertices: \"))\n",
        "print(\"Enter the adjacency matrix:\")\n",
        "graph_matrix = []\n",
        "for _ in range(num_vertices):\n",
        "    row = list(map(int, input().split()))\n",
        "    graph_matrix.append(row)\n",
        "\n",
        "num_colors = int(input(\"Enter number of colors: \"))\n",
        "colors = []\n",
        "for i in range(num_colors):\n",
        "    color = input(f\"Enter color {i+1}: \")\n",
        "    colors.append(color)\n",
        "\n",
        "graph_coloring(graph_matrix, colors, num_colors)\n"
      ]
    }
  ]
}