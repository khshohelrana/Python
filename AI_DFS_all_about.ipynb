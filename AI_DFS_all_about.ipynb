{
  "nbformat": 4,
  "nbformat_minor": 0,
  "metadata": {
    "colab": {
      "provenance": [],
      "authorship_tag": "ABX9TyPYYPQgGTPW3zj0afjlPCjA",
      "include_colab_link": true
    },
    "kernelspec": {
      "name": "python3",
      "display_name": "Python 3"
    },
    "language_info": {
      "name": "python"
    }
  },
  "cells": [
    {
      "cell_type": "markdown",
      "metadata": {
        "id": "view-in-github",
        "colab_type": "text"
      },
      "source": [
        "<a href=\"https://colab.research.google.com/github/khshohelrana/Python/blob/main/AI_DFS_all_about.ipynb\" target=\"_parent\"><img src=\"https://colab.research.google.com/assets/colab-badge.svg\" alt=\"Open In Colab\"/></a>"
      ]
    },
    {
      "cell_type": "code",
      "execution_count": 20,
      "metadata": {
        "colab": {
          "base_uri": "https://localhost:8080/",
          "height": 321
        },
        "id": "0t49M_xVfV-3",
        "outputId": "081837bd-bf4e-4fa3-c9b4-09c53517005c"
      },
      "outputs": [
        {
          "output_type": "error",
          "ename": "NameError",
          "evalue": "name 'v_depth' is not defined",
          "traceback": [
            "\u001b[0;31m---------------------------------------------------------------------------\u001b[0m",
            "\u001b[0;31mNameError\u001b[0m                                 Traceback (most recent call last)",
            "\u001b[0;32m<ipython-input-20-bf78c50e870d>\u001b[0m in \u001b[0;36m<cell line: 72>\u001b[0;34m()\u001b[0m\n\u001b[1;32m     70\u001b[0m                     \u001b[0;31m#q.append(child)\u001b[0m\u001b[0;34m\u001b[0m\u001b[0;34m\u001b[0m\u001b[0m\n\u001b[1;32m     71\u001b[0m \u001b[0;34m\u001b[0m\u001b[0m\n\u001b[0;32m---> 72\u001b[0;31m \u001b[0mb\u001b[0m \u001b[0;34m=\u001b[0m \u001b[0mDFS\u001b[0m\u001b[0;34m(\u001b[0m\u001b[0;34m)\u001b[0m\u001b[0;34m\u001b[0m\u001b[0;34m\u001b[0m\u001b[0m\n\u001b[0m",
            "\u001b[0;32m<ipython-input-20-bf78c50e870d>\u001b[0m in \u001b[0;36m__init__\u001b[0;34m(self)\u001b[0m\n\u001b[1;32m     18\u001b[0m         \u001b[0mself\u001b[0m\u001b[0;34m.\u001b[0m\u001b[0mN\u001b[0m \u001b[0;34m=\u001b[0m \u001b[0;36m0\u001b[0m\u001b[0;34m\u001b[0m\u001b[0;34m\u001b[0m\u001b[0m\n\u001b[1;32m     19\u001b[0m         \u001b[0mself\u001b[0m\u001b[0;34m.\u001b[0m\u001b[0mstate\u001b[0m \u001b[0;34m=\u001b[0m \u001b[0;36m0\u001b[0m\u001b[0;34m\u001b[0m\u001b[0;34m\u001b[0m\u001b[0m\n\u001b[0;32m---> 20\u001b[0;31m         \u001b[0mself\u001b[0m\u001b[0;34m.\u001b[0m\u001b[0minit\u001b[0m\u001b[0;34m(\u001b[0m\u001b[0;34m)\u001b[0m\u001b[0;34m\u001b[0m\u001b[0;34m\u001b[0m\u001b[0m\n\u001b[0m\u001b[1;32m     21\u001b[0m \u001b[0;34m\u001b[0m\u001b[0m\n\u001b[1;32m     22\u001b[0m     \u001b[0;32mdef\u001b[0m \u001b[0minit\u001b[0m\u001b[0;34m(\u001b[0m\u001b[0mself\u001b[0m\u001b[0;34m)\u001b[0m\u001b[0;34m:\u001b[0m\u001b[0;34m\u001b[0m\u001b[0;34m\u001b[0m\u001b[0m\n",
            "\u001b[0;32m<ipython-input-20-bf78c50e870d>\u001b[0m in \u001b[0;36minit\u001b[0;34m(self)\u001b[0m\n\u001b[1;32m     34\u001b[0m         \u001b[0mself\u001b[0m\u001b[0;34m.\u001b[0m\u001b[0mgoal\u001b[0m \u001b[0;34m=\u001b[0m \u001b[0mNode\u001b[0m\u001b[0;34m(\u001b[0m\u001b[0mgoal_x\u001b[0m\u001b[0;34m,\u001b[0m \u001b[0mgoal_y\u001b[0m\u001b[0;34m,\u001b[0m \u001b[0mfloat\u001b[0m\u001b[0;34m(\u001b[0m\u001b[0;34m'inf'\u001b[0m\u001b[0;34m)\u001b[0m\u001b[0;34m)\u001b[0m\u001b[0;34m\u001b[0m\u001b[0;34m\u001b[0m\u001b[0m\n\u001b[1;32m     35\u001b[0m \u001b[0;34m\u001b[0m\u001b[0m\n\u001b[0;32m---> 36\u001b[0;31m         \u001b[0mself\u001b[0m\u001b[0;34m.\u001b[0m\u001b[0mst_dfs\u001b[0m\u001b[0;34m(\u001b[0m\u001b[0mgraph\u001b[0m \u001b[0;34m,\u001b[0m \u001b[0mself\u001b[0m\u001b[0;34m.\u001b[0m\u001b[0msource\u001b[0m\u001b[0;34m)\u001b[0m\u001b[0;34m\u001b[0m\u001b[0;34m\u001b[0m\u001b[0m\n\u001b[0m\u001b[1;32m     37\u001b[0m         \u001b[0;32mif\u001b[0m \u001b[0mself\u001b[0m\u001b[0;34m.\u001b[0m\u001b[0mfound\u001b[0m\u001b[0;34m:\u001b[0m\u001b[0;34m\u001b[0m\u001b[0;34m\u001b[0m\u001b[0m\n\u001b[1;32m     38\u001b[0m             \u001b[0mprint\u001b[0m\u001b[0;34m(\u001b[0m\u001b[0;34m\"Goal found\"\u001b[0m\u001b[0;34m)\u001b[0m\u001b[0;34m\u001b[0m\u001b[0;34m\u001b[0m\u001b[0m\n",
            "\u001b[0;32m<ipython-input-20-bf78c50e870d>\u001b[0m in \u001b[0;36mst_dfs\u001b[0;34m(self, graph, u)\u001b[0m\n\u001b[1;32m     61\u001b[0m                         \u001b[0;31m#self.goal.level = v_level\u001b[0m\u001b[0;34m\u001b[0m\u001b[0;34m\u001b[0m\u001b[0m\n\u001b[1;32m     62\u001b[0m                         \u001b[0;32mreturn\u001b[0m\u001b[0;34m\u001b[0m\u001b[0;34m\u001b[0m\u001b[0m\n\u001b[0;32m---> 63\u001b[0;31m                     \u001b[0mchild\u001b[0m\u001b[0;34m=\u001b[0m \u001b[0mNode\u001b[0m\u001b[0;34m(\u001b[0m\u001b[0mv_x\u001b[0m\u001b[0;34m,\u001b[0m \u001b[0mv_y\u001b[0m\u001b[0;34m,\u001b[0m \u001b[0mv_depth\u001b[0m\u001b[0;34m)\u001b[0m\u001b[0;34m\u001b[0m\u001b[0;34m\u001b[0m\u001b[0m\n\u001b[0m\u001b[1;32m     64\u001b[0m                     \u001b[0mprint\u001b[0m\u001b[0;34m(\u001b[0m\u001b[0;34m\"depth= \"\u001b[0m\u001b[0;34m,\u001b[0m \u001b[0;34m)\u001b[0m\u001b[0;34m\u001b[0m\u001b[0;34m\u001b[0m\u001b[0m\n\u001b[1;32m     65\u001b[0m                     \u001b[0mself\u001b[0m\u001b[0;34m.\u001b[0m\u001b[0mst_dfs\u001b[0m\u001b[0;34m(\u001b[0m\u001b[0mgraph\u001b[0m\u001b[0;34m,\u001b[0m \u001b[0mchild\u001b[0m\u001b[0;34m)\u001b[0m\u001b[0;34m\u001b[0m\u001b[0;34m\u001b[0m\u001b[0m\n",
            "\u001b[0;31mNameError\u001b[0m: name 'v_depth' is not defined"
          ]
        }
      ],
      "source": [
        "from collections import deque\n",
        "\n",
        "class Node:\n",
        "    def __init__(self, a, b, z):\n",
        "        self.x = a\n",
        "        self.y = b\n",
        "        self.level = z\n",
        "\n",
        "class DFS:\n",
        "    def __init__(self):\n",
        "        self.directions = 4\n",
        "        self.x_move = [1, -1, 0, 0]\n",
        "        self.y_move = [0, 0, 1, -1]\n",
        "        self.found = False\n",
        "        self.goal_level = 0\n",
        "        self.source = None\n",
        "        self.goal = None\n",
        "        self.N = 0\n",
        "        self.state = 0\n",
        "        self.init()\n",
        "\n",
        "    def init(self):\n",
        "        graph = [\n",
        "            [0, 0, 1, 0, 1],\n",
        "            [0, 1, 1, 1, 1],\n",
        "            [0, 1, 0, 0, 1],\n",
        "            [1, 1, 0, 1, 1],\n",
        "            [1, 0, 0, 0, 1]\n",
        "        ]\n",
        "        self.N = len(graph)\n",
        "        source_x, source_y = 0, 2\n",
        "        goal_x, goal_y = 4, 4\n",
        "        self.source = Node(source_x, source_y, 0)\n",
        "        self.goal = Node(goal_x, goal_y, float('inf'))\n",
        "\n",
        "        self.st_dfs(graph , self.source)\n",
        "        if self.found:\n",
        "            print(\"Goal found\")\n",
        "            print(\"Number of moves required =\", self.goal_level)\n",
        "        else:\n",
        "            print(\"Goal can not be reached from starting block\")\n",
        "\n",
        "    def st_dfs(self, graph, u):\n",
        "          graph[u.x][u.y]=0\n",
        "        #q = deque()\n",
        "        #q.append(self.source)\n",
        "\n",
        "        #while q:\n",
        "\n",
        "            #u = q.popleft()\n",
        "          for j in range(self.directions):\n",
        "                v_x = u.x + self.x_move[j]\n",
        "                v_y = u.y + self.y_move[j]\n",
        "                if (0 <= v_x < self.N) and (0 <= v_y < self.N) and graph[v_x][v_y] == 1:\n",
        "                    v_level = u.level + 1\n",
        "                    #print(v_x  ,v_y)\n",
        "                    if v_x == self.goal.x and v_y == self.goal.y:\n",
        "                        self.found = True\n",
        "                        self.goal.depth=v_depth\n",
        "                        #self.goal_level = v_level\n",
        "                        #self.goal.level = v_level\n",
        "                        return\n",
        "                    child= Node(v_x, v_y, v_depth)\n",
        "                    print(\"depth= \", )\n",
        "                    self.st_dfs(graph, child)\n",
        "                if self.found:\n",
        "                    return\n",
        "                    #graph[v_x][v_y] = 0\n",
        "                    #child = Node(v_x, v_y, v_level)\n",
        "                    #q.append(child)\n",
        "\n",
        "b = DFS()"
      ]
    }
  ]
}