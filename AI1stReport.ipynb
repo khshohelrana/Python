{
  "nbformat": 4,
  "nbformat_minor": 0,
  "metadata": {
    "colab": {
      "provenance": [],
      "toc_visible": true,
      "authorship_tag": "ABX9TyMurOCWa39glPAmLOc06Oel",
      "include_colab_link": true
    },
    "kernelspec": {
      "name": "python3",
      "display_name": "Python 3"
    },
    "language_info": {
      "name": "python"
    }
  },
  "cells": [
    {
      "cell_type": "markdown",
      "metadata": {
        "id": "view-in-github",
        "colab_type": "text"
      },
      "source": [
        "<a href=\"https://colab.research.google.com/github/khshohelrana/Python/blob/main/AI1stReport.ipynb\" target=\"_parent\"><img src=\"https://colab.research.google.com/assets/colab-badge.svg\" alt=\"Open In Colab\"/></a>"
      ]
    },
    {
      "cell_type": "code",
      "execution_count": null,
      "metadata": {
        "id": "xFST1EKJByBg"
      },
      "outputs": [],
      "source": [
        "#Write a python program to find the sum of odd and even numbers from a set of numbers.\n",
        "def sum_odd_even(numbers):\n",
        "    sum_odd = sum(num for num in numbers if num % 2 != 0)\n",
        "    sum_even = sum(num for num in numbers if num % 2 == 0)\n",
        "    return sum_odd, sum_even\n",
        "\n",
        "numbers = set(map(int, input(\"Enter a set of numbers separated by spaces: \").split()))\n",
        "sum_odd, sum_even = sum_odd_even(numbers)\n",
        "print(\"Sum of odd numbers:\", sum_odd)\n",
        "print(\"Sum of even numbers:\", sum_even)\n",
        "\n",
        "\n",
        "#Write a python program to find the smallest number from a set of numbers.\n",
        "def find_smallest_number(numbers):\n",
        "    return min(numbers)\n",
        "\n",
        "numbers = set(map(int, input(\"Enter a set of numbers separated by spaces: \").split()))\n",
        "smallest_number = find_smallest_number(numbers)\n",
        "print(\"Smallest number:\", smallest_number)\n",
        "\n",
        "#Write a python program to find the sum of all numbers between 50 and 100, which are divisible by 3 and\n",
        "#not divisible by 5.\n",
        "def sum_divisible_by_3_not_5():\n",
        "    return sum(num for num in range(50, 101) if num % 3 == 0 and num % 5 != 0)\n",
        "\n",
        "result = sum_divisible_by_3_not_5()\n",
        "print(\"Sum of numbers between 50 and 100, divisible by 3 and not by 5:\", result)\n",
        "\n",
        "\n",
        "#Write a python program to find the second highest number from a set of numbers.\n",
        "def find_second_highest(numbers):\n",
        "    unique_numbers = sorted(set(numbers), reverse=True)\n",
        "    if len(unique_numbers) > 1:\n",
        "        return unique_numbers[1]\n",
        "    else:\n",
        "        return \"There is no second highest number.\"\n",
        "\n",
        "numbers = set(map(int, input(\"Enter the numbers separated by spaces: \").split()))\n",
        "second_highest = find_second_highest(numbers)\n",
        "print(\"Second highest number:\", second_highest)\n",
        "\n",
        "#Write a python program to find the factorial of a number using for loop.\n",
        "def factorial(n):\n",
        "    if n == 0:\n",
        "        return 1\n",
        "    else:\n",
        "        return n * factorial(n-1)\n",
        "\n",
        "result = factorial(6)\n",
        "print(\"Factorial of 6:\", result)\n",
        "\n",
        "#or\n",
        "\n",
        "def factorial(n):\n",
        "    result = 1\n",
        "    for i in range(1, n + 1):\n",
        "        result *= i\n",
        "    return result\n",
        "\n",
        "# Calculate factorial of 6\n",
        "result = factorial(6)\n",
        "print(\"Factorial of 6:\", result)\n",
        "\n",
        "\n",
        "\n",
        "\n",
        "#Write a python program to generate Fibonacci series.\n",
        "def generate_fibonacci_series(n):\n",
        "    fibonacci_series = [0, 1]\n",
        "    for i in range(2, n):\n",
        "        next_num = fibonacci_series[-1] + fibonacci_series[-2]\n",
        "        fibonacci_series.append(next_num)\n",
        "    return fibonacci_series\n",
        "\n",
        "n = int(input(\"Enter the number of terms in the Fibonacci series: \"))\n",
        "fibonacci_series = generate_fibonacci_series(n)\n",
        "print(\"Fibonacci series:\", fibonacci_series)\n",
        "\n",
        "\n"
      ]
    }
  ]
}