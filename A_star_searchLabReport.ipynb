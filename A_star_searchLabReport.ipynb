{
  "nbformat": 4,
  "nbformat_minor": 0,
  "metadata": {
    "colab": {
      "provenance": [],
      "authorship_tag": "ABX9TyOsfgbj/7cfg50ixHLu1DtP",
      "include_colab_link": true
    },
    "kernelspec": {
      "name": "python3",
      "display_name": "Python 3"
    },
    "language_info": {
      "name": "python"
    }
  },
  "cells": [
    {
      "cell_type": "markdown",
      "metadata": {
        "id": "view-in-github",
        "colab_type": "text"
      },
      "source": [
        "<a href=\"https://colab.research.google.com/github/khshohelrana/Python/blob/main/A_star_searchLabReport.ipynb\" target=\"_parent\"><img src=\"https://colab.research.google.com/assets/colab-badge.svg\" alt=\"Open In Colab\"/></a>"
      ]
    },
    {
      "cell_type": "code",
      "execution_count": 14,
      "metadata": {
        "colab": {
          "base_uri": "https://localhost:8080/"
        },
        "id": "iidEW80Wj7uq",
        "outputId": "8239b3db-bc31-4965-e3b1-283671e96991"
      },
      "outputs": [
        {
          "output_type": "stream",
          "name": "stdout",
          "text": [
            "Goal Found and cost = 19\n",
            "Path: 0 -> 1 -> 5 -> 6 -> 7\n"
          ]
        }
      ],
      "source": [
        "import heapq\n",
        "\n",
        "class Node:\n",
        " def __init__(self, u, GofN, HofN, parent=None):\n",
        "   self.u = u\n",
        "   self.GofN = GofN\n",
        "   self.HofN = HofN\n",
        "   self.FofN = GofN + HofN\n",
        "   self.parent = parent\n",
        "\n",
        " def __lt__(self, other):\n",
        "   return self.FofN < other.FofN\n",
        "\n",
        "def a_star_search(arr, heuristic, start, dest):\n",
        "   N = len(arr)\n",
        "   pq = []\n",
        "   heapq.heappush(pq, Node(start, 0, heuristic[start]))\n",
        "\n",
        "   visited = [False] * N\n",
        "   flag = False\n",
        "   parent_map = {}\n",
        "\n",
        "   while pq:\n",
        "      parent = heapq.heappop(pq)\n",
        "\n",
        "      if parent.u == dest:\n",
        "         print(\"Goal Found and cost =\", parent.GofN)\n",
        "         flag = True\n",
        "\n",
        "         path = []\n",
        "         current = parent\n",
        "         while current:\n",
        "              path.append(current.u)\n",
        "              current = current.parent\n",
        "         path.reverse()\n",
        "         print(\"Path:\", \" -> \".join(map(str, path)))\n",
        "         break\n",
        "\n",
        "      if visited[parent.u]:\n",
        "         continue\n",
        "\n",
        "      visited[parent.u] = True\n",
        "\n",
        "      for i in range(N):\n",
        "          if arr[parent.u][i] != 0 and not visited[i]:\n",
        "             child = Node(i, parent.GofN + arr[parent.u][i], heuristic[i], parent)\n",
        "             heapq.heappush(pq, child)\n",
        "\n",
        "   if not flag:\n",
        "      print(\"Not possible to reach goal node\")\n",
        "\n",
        "N = 8\n",
        "arr = [\n",
        "     [0, 6, 5, 10, 0, 0, 0, 0],\n",
        "     [6, 0, 0, 0, 0, 6, 0, 0],\n",
        "     [5, 0, 0, 0, 7, 6, 0, 0],\n",
        "     [10, 0, 0, 0, 6, 0, 0, 0],\n",
        "     [0, 0, 7, 6, 0, 0, 6, 0],\n",
        "     [0, 6, 6, 0, 0, 0, 4, 0],\n",
        "     [0, 0, 0, 0, 6, 4, 0, 3],\n",
        "     [0, 0, 0, 0, 0, 0, 3, 0],\n",
        "   ]\n",
        "heuristic = [17, 10, 13, 4, 2, 4, 1, 0]\n",
        "start = 0\n",
        "dest = 7\n",
        "a_star_search(arr, heuristic, start, dest)"
      ]
    }
  ]
}