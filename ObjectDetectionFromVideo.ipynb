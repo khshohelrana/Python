{
  "nbformat": 4,
  "nbformat_minor": 0,
  "metadata": {
    "colab": {
      "provenance": [],
      "include_colab_link": true
    },
    "kernelspec": {
      "name": "python3",
      "display_name": "Python 3"
    },
    "language_info": {
      "name": "python"
    }
  },
  "cells": [
    {
      "cell_type": "markdown",
      "metadata": {
        "id": "view-in-github",
        "colab_type": "text"
      },
      "source": [
        "<a href=\"https://colab.research.google.com/github/khshohelrana/Python/blob/main/ObjectDetectionFromVideo.ipynb\" target=\"_parent\"><img src=\"https://colab.research.google.com/assets/colab-badge.svg\" alt=\"Open In Colab\"/></a>"
      ]
    },
    {
      "cell_type": "code",
      "execution_count": null,
      "metadata": {
        "id": "8uN_dKuScNSN"
      },
      "outputs": [],
      "source": [
        "import cv2\n",
        "from IPython.display import display, Image\n",
        "import matplotlib.pyplot as plt\n",
        "\n"
      ]
    },
    {
      "cell_type": "code",
      "source": [
        "config_file='ssd_mobilenet_v3_large_coco_2020_01_14.pbtxt'\n",
        "frozen_model='frozen_inference_graph.pb'"
      ],
      "metadata": {
        "id": "j43uQpX3jtmL"
      },
      "execution_count": null,
      "outputs": []
    },
    {
      "cell_type": "code",
      "source": [
        "model=cv2.dnn_DetectionModel(frozen_model, config_file)\n",
        "classLabels=[]\n",
        "file_name='level.txt'\n",
        "with open(file_name, 'rt') as fpt:\n",
        "    classLabels= fpt.read().rstrip('\\n').split('\\n')\n",
        "print(classLabels)"
      ],
      "metadata": {
        "id": "HDFq7KGkdKxk"
      },
      "execution_count": null,
      "outputs": []
    },
    {
      "cell_type": "code",
      "source": [
        "print(len(classLabels))\n"
      ],
      "metadata": {
        "id": "DPfCDB9Zeyd5"
      },
      "execution_count": null,
      "outputs": []
    },
    {
      "cell_type": "code",
      "source": [
        "model.setInputSize(320,320)\n",
        "model.setInputScale(1.0/127.5)\n",
        "model.setInputMean((127.5, 127, 5, 127.5))\n",
        "model.setInputSwapRB(True)"
      ],
      "metadata": {
        "id": "F_Yp90kufAIE"
      },
      "execution_count": null,
      "outputs": []
    },
    {
      "cell_type": "code",
      "source": [
        "img=cv2.imread('11.png')\n",
        "plt.imshow(img)\n"
      ],
      "metadata": {
        "id": "v-gRYwWVfZWN"
      },
      "execution_count": null,
      "outputs": []
    },
    {
      "cell_type": "code",
      "source": [
        "ClassInbdex, confidece, bbox=model.detect(img, confThreshold=0.5)\n",
        "print(ClassInbdex)\n"
      ],
      "metadata": {
        "id": "2vxckx88flpH"
      },
      "execution_count": null,
      "outputs": []
    },
    {
      "cell_type": "code",
      "source": [
        "font_scale=3\n",
        "font=cv2.FONT_HERSHEY_PLAIN\n",
        "for ClassInd, conf, boxes in zip(ClassInbdex.flatten(), confidece.flatten(), bbox):\n",
        "    cv2.rectangle(img, boxes,(255,0,0),2)\n",
        "    cv2.putText(img, classLabels[ClassInd-1], (boxes[0]+10, boxes[1]+40), font, fontScale=font_scale, color=(0,255,0), thickness=3)"
      ],
      "metadata": {
        "id": "bLAn36e8f2IM"
      },
      "execution_count": null,
      "outputs": []
    },
    {
      "cell_type": "code",
      "source": [
        "plt.imshow(cv2.cvtColor(img, cv2.COLOR_BGR2RGB))"
      ],
      "metadata": {
        "id": "J1VTNRx_g2tK"
      },
      "execution_count": null,
      "outputs": []
    },
    {
      "cell_type": "code",
      "source": [
        "# cap=cv2.VideoCapture('Foot.MP4')\n",
        "# if not cap.isOpened():\n",
        "#      cap=cv2.VideoCapture(0)\n",
        "# if not cap.isOpened():\n",
        "#     raise IOError(\"Cannot open video\")\n",
        "\n",
        "# font_scale=3\n",
        "# font=cv2.FONT_HERSHEY_PLAIN\n",
        "\n",
        "# while True:\n",
        "#    ret, frame=cap.read()\n",
        "\n",
        "#    ClassIndex, confidece, bbox=model.detect(frame, confThreshold=0.55)\n",
        "#    if(len(ClassInbdex)!=0):\n",
        "#        for ClassInd, conf, boxes in zip(ClassIndex.flatten(), confidece.flatten(), bbox):\n",
        "#            if(ClassInd<=80):\n",
        "#                cv2.rectangle(frame, boxes,(255,0,0),2)\n",
        "#                cv2.putText(frame, classLabels[ClassInd-1], (boxes[0]+10, boxes[1]+40), font, fontScale=font_scale, color=(0,255,0), thickness=3)\n",
        "\n",
        "#    plt.imshow(cv2.cvtColor(frame, cv2.COLOR_BGR2RGB))\n",
        "\n",
        "#    if cv2.waitKey(2) & 0xff==ord('q'):\n",
        "#        break\n",
        "\n",
        "# cap.release()\n",
        "# cv2.destroyALLWindows()\n",
        "\n",
        "cap = cv2.VideoCapture('Foot.MP4')\n",
        "if not cap.isOpened():\n",
        "    cap = cv2.VideoCapture(0)\n",
        "if not cap.isOpened():\n",
        "    raise IOError(\"Cannot open video\")\n",
        "\n",
        "# Load your pre-trained model\n",
        "# Assuming `model` is your pre-trained model for object detection\n",
        "\n",
        "font_scale = 3\n",
        "font = cv2.FONT_HERSHEY_PLAIN\n",
        "\n",
        "while True:\n",
        "    ret, frame = cap.read()\n",
        "    if not ret:\n",
        "        break\n",
        "\n",
        "    ClassIndex, confidence, bbox = model.detect(frame, confThreshold=0.55)\n",
        "    if len(ClassIndex) != 0:\n",
        "        for ClassInd, conf, boxes in zip(ClassIndex.flatten(), confidence.flatten(), bbox):\n",
        "            if ClassInd <= 80:\n",
        "                cv2.rectangle(frame, boxes, (255, 0, 0), 2)\n",
        "                cv2.putText(frame, classLabels[ClassInd - 1], (boxes[0] + 10, boxes[1] + 40), font, fontScale=font_scale, color=(0, 255, 0), thickness=3)\n",
        "\n",
        "    _, frame = cv2.imencode('.jpg', frame)\n",
        "    frame = frame.tobytes()\n",
        "    display(Image(data=frame))"
      ],
      "metadata": {
        "id": "JuJUGi3ShHto"
      },
      "execution_count": null,
      "outputs": []
    },
    {
      "cell_type": "code",
      "source": [],
      "metadata": {
        "id": "q1o15Af_vsZs"
      },
      "execution_count": null,
      "outputs": []
    }
  ]
}